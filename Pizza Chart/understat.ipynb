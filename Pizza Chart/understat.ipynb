{
 "cells": [
  {
   "cell_type": "code",
   "execution_count": 26,
   "id": "5f87431e",
   "metadata": {},
   "outputs": [
    {
     "name": "stdout",
     "output_type": "stream",
     "text": [
      "        id          player_name games time goals                   xG assists  \\\n",
      "0     8260       Erling Haaland     5  408     9    7.338607832789421       1   \n",
      "1      773  Aleksandar Mitrovic     5  450     5    4.196493893861771       0   \n",
      "2      522        Wilfried Zaha     4  354     4   2.9200887102633715       0   \n",
      "3      647           Harry Kane     5  450     4   3.6503995805978775       0   \n",
      "4     2381              Rodrigo     5  363     4   2.5500049591064453       1   \n",
      "..     ...                  ...   ...  ...   ...                  ...     ...   \n",
      "384  10865           Jamal Lowe     1    1     0                    0       0   \n",
      "385  10997          Bobby Clark     1    5     0                    0       0   \n",
      "386  11000        Matheus Nunes     3  258     0   0.6503791771829128       0   \n",
      "387  11003           Ryan Yates     3  180     0  0.36730562150478363       0   \n",
      "388  11034           Owen Bevan     1    6     0                    0       0   \n",
      "\n",
      "                      xA shots key_passes yellow_cards red_cards position  \\\n",
      "0     0.6997176110744476    22          2            0         0        F   \n",
      "1     0.3156927675008774    22          4            1         0        F   \n",
      "2     0.7789966724812984    12          6            1         0      F M   \n",
      "3     1.1759916096925735    20         10            2         0        F   \n",
      "4     1.3412639200687408    19          4            0         0      F M   \n",
      "..                   ...   ...        ...          ...       ...      ...   \n",
      "384                    0     0          0            0         0        S   \n",
      "385                    0     0          0            0         0        S   \n",
      "386  0.03747904486954212     7          2            0         0        M   \n",
      "387  0.09131517261266708     8          1            0         0      M S   \n",
      "388                    0     0          0            0         0        S   \n",
      "\n",
      "                  team_title npg                 npxG             xGChain  \\\n",
      "0            Manchester City   8    6.577438876032829   4.969493627548218   \n",
      "1                     Fulham   4   2.6741561889648438   2.472640670835972   \n",
      "2             Crystal Palace   4    2.158919872716069  2.8905339539051056   \n",
      "3                  Tottenham   4   2.8892307430505753  3.3183541893959045   \n",
      "4                      Leeds   4   2.5500049591064453   2.674336649477482   \n",
      "..                       ...  ..                  ...                 ...   \n",
      "384              Bournemouth   0                    0                   0   \n",
      "385                Liverpool   0                    0                   0   \n",
      "386  Wolverhampton Wanderers   0   0.6503791771829128  0.9053966850042343   \n",
      "387        Nottingham Forest   0  0.36730562150478363  0.4173388332128525   \n",
      "388              Bournemouth   0                    0                   0   \n",
      "\n",
      "               xGBuildup  \n",
      "0     0.1506465571001172  \n",
      "1     0.3926916792988777  \n",
      "2     0.7768229991197586  \n",
      "3     0.6452148258686066  \n",
      "4    0.10923817753791809  \n",
      "..                   ...  \n",
      "384                    0  \n",
      "385                    0  \n",
      "386  0.24530477821826935  \n",
      "387  0.09771949052810669  \n",
      "388                    0  \n",
      "\n",
      "[389 rows x 18 columns]\n"
     ]
    }
   ],
   "source": [
    "import asyncio\n",
    "import json\n",
    "# from urllib2 import Request, urlopen\n",
    "import json\n",
    "import pandas as pd    \n",
    "import aiohttp\n",
    "\n",
    "from understat import Understat\n",
    "import nest_asyncio\n",
    "\n",
    "\n",
    "nest_asyncio.apply()\n",
    "\n",
    "df=[]\n",
    "\n",
    "async def main():\n",
    "    async with aiohttp.ClientSession() as session:\n",
    "        understat = Understat(session)\n",
    "        data = await understat.get_league_players(2517)\n",
    "#         print(json.dumps(grouped_stats))\n",
    "        df = pd.DataFrame.from_dict(data, orient='columns')\n",
    "        print(df)\n",
    "        \n",
    "if __name__ == \"__main__\": \n",
    "    loop = asyncio.get_event_loop()\n",
    "    loop.run_until_complete(main())\n"
   ]
  },
  {
   "cell_type": "code",
   "execution_count": null,
   "id": "fd601f82",
   "metadata": {},
   "outputs": [],
   "source": []
  },
  {
   "cell_type": "code",
   "execution_count": null,
   "id": "66d96a1e",
   "metadata": {},
   "outputs": [],
   "source": []
  }
 ],
 "metadata": {
  "kernelspec": {
   "display_name": "Python 3 (ipykernel)",
   "language": "python",
   "name": "python3"
  },
  "language_info": {
   "codemirror_mode": {
    "name": "ipython",
    "version": 3
   },
   "file_extension": ".py",
   "mimetype": "text/x-python",
   "name": "python",
   "nbconvert_exporter": "python",
   "pygments_lexer": "ipython3",
   "version": "3.8.3"
  }
 },
 "nbformat": 4,
 "nbformat_minor": 5
}
