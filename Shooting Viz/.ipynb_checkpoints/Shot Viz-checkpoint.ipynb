{
 "cells": [
  {
   "cell_type": "code",
   "execution_count": 20,
   "id": "4c517c44",
   "metadata": {},
   "outputs": [],
   "source": [
    "import pandas as pd\n",
    "import numpy as np\n",
    "import matplotlib.pyplot as plt\n",
    "from highlight_text import fig_text\n",
    "import matplotlib as mpl\n",
    "import matplotlib.cm as cm\n",
    "import requests\n",
    "import json\n",
    "from bs4 import BeautifulSoup\n",
    "\n",
    "from mplsoccer.pitch import Pitch, VerticalPitch\n",
    "from mplsoccer import FontManager\n",
    "\n",
    "## params\n",
    "BASE_URL = 'https://understat.com/match/'\n",
    "UNDERSTAT_MATCH_ID = '19002'"
   ]
  },
  {
   "cell_type": "code",
   "execution_count": 21,
   "id": "2da0c85b",
   "metadata": {},
   "outputs": [],
   "source": [
    "# HOME_TEAM = 'Bournemouth'\n",
    "# AWAY_TEAM = 'Arsenal'"
   ]
  },
  {
   "cell_type": "code",
   "execution_count": 22,
   "id": "95e95c0a",
   "metadata": {},
   "outputs": [],
   "source": [
    "url = BASE_URL + UNDERSTAT_MATCH_ID"
   ]
  },
  {
   "cell_type": "code",
   "execution_count": 23,
   "id": "a1a3e77f",
   "metadata": {},
   "outputs": [],
   "source": [
    "res = requests.get(url)\n",
    "soup =BeautifulSoup(res.content, 'lxml')\n",
    "scripts = soup.find_all('script')"
   ]
  },
  {
   "cell_type": "code",
   "execution_count": 24,
   "id": "c7637a35",
   "metadata": {},
   "outputs": [],
   "source": [
    "string = scripts[1].string"
   ]
  },
  {
   "cell_type": "code",
   "execution_count": 25,
   "id": "551ce417",
   "metadata": {},
   "outputs": [],
   "source": [
    "ind_start = string.index(\"('\") +2\n",
    "ind_end = string.index(\"')\") \n",
    "\n",
    "json_data = string[ind_start:ind_end]\n",
    "json_data = json_data.encode('utf8').decode('unicode_escape')\n",
    "data = json.loads(json_data)"
   ]
  },
  {
   "cell_type": "code",
   "execution_count": 26,
   "id": "1c03e0cb",
   "metadata": {},
   "outputs": [],
   "source": [
    "x = []\n",
    "y = []\n",
    "xg = []\n",
    "result = []\n",
    "player = []\n",
    "team = []\n",
    "shotType = []\n",
    "data_away = data['a']\n",
    "data_home = data['h']\n",
    "\n",
    "for index in range(len(data_home)):\n",
    "    for key in data_home[index]:\n",
    "        if key== 'player':\n",
    "            player.append(data_home[index][key])\n",
    "        if key== 'shotType':\n",
    "            shotType.append(data_home[index][key])\n",
    "        if key== 'result':\n",
    "            result.append(data_home[index][key])\n",
    "        if key== 'X':\n",
    "            x.append(data_home[index][key])\n",
    "        if key== 'Y':\n",
    "            y.append(data_home[index][key])\n",
    "        if key== 'xG':\n",
    "            xg.append(data_home[index][key])\n",
    "        if key== 'h_team':\n",
    "            team.append(data_home[index][key])\n",
    "       \n",
    "            \n",
    "for index in range(len(data_away)):\n",
    "    for key in data_away[index]:\n",
    "        if key== 'player':\n",
    "            player.append(data_away[index][key])\n",
    "        if key== 'shotType':\n",
    "            shotType.append(data_away[index][key])\n",
    "        if key== 'result':\n",
    "            result.append(data_away[index][key])\n",
    "        if key== 'X':\n",
    "            x.append(data_away[index][key])\n",
    "        if key== 'Y':\n",
    "            y.append(data_away[index][key])\n",
    "        if key== 'xG':\n",
    "            xg.append(data_away[index][key])\n",
    "        if key== 'a_team':\n",
    "            team.append(data_away[index][key])"
   ]
  },
  {
   "cell_type": "code",
   "execution_count": 27,
   "id": "1d079593",
   "metadata": {},
   "outputs": [],
   "source": [
    "col_names = ['player', 'shotType', 'result', 'x', 'y', 'xg', 'team']\n",
    "df = pd.DataFrame([player, shotType, result, x, y, xg, team], index = col_names)\n",
    "df = df.T\n",
    "df['x'] = df['x'].astype('float32')\n",
    "df['y'] = df['y'].astype('float32')\n",
    "df['xg'] = df['xg'].astype('float32')\n"
   ]
  },
  {
   "cell_type": "code",
   "execution_count": 28,
   "id": "27c0366a",
   "metadata": {},
   "outputs": [],
   "source": [
    "HOME_TEAM = df['team'].unique()[0]\n",
    "AWAY_TEAM = df['team'].unique()[1]\n",
    "\n",
    "df_shots_home = df[df.team == HOME_TEAM].copy()\n",
    "df_shots_away = df[df.team == AWAY_TEAM].copy()\n"
   ]
  },
  {
   "cell_type": "code",
   "execution_count": 29,
   "id": "cdcbef79",
   "metadata": {},
   "outputs": [],
   "source": [
    "font_normal = FontManager((\"https://github.com/google/fonts/blob/main/apache/roboto/\"\n",
    "                           \"Roboto%5Bwdth,wght%5D.ttf?raw=true\"))\n",
    "font_italic = FontManager((\"https://github.com/google/fonts/blob/main/apache/roboto/\"\n",
    "                           \"Roboto-Italic%5Bwdth,wght%5D.ttf?raw=true\"))\n",
    "font_bold = FontManager((\"https://github.com/google/fonts/blob/main/apache/robotoslab/\"\n",
    "                         \"RobotoSlab%5Bwght%5D.ttf?raw=true\"))"
   ]
  },
  {
   "cell_type": "code",
   "execution_count": 31,
   "id": "49692210",
   "metadata": {},
   "outputs": [
    {
     "data": {
      "image/png": "[encoded data removed]",
      "text/plain": [
       "<Figure size 936x612 with 1 Axes>"
      ]
     },
     "metadata": {},
     "output_type": "display_data"
    }
   ],
   "source": [
    "fig, ax = plt.subplots(figsize=(13,8.5))\n",
    "fig.set_facecolor('#22312b')\n",
    "ax.patch.set_facecolor('#22312b')\n",
    "\n",
    "#The statsbomb pitch from mplsoccer\n",
    "pitch = VerticalPitch(pitch_type='statsbomb', \n",
    "              pitch_color='#22312b', line_color='#c7d5cc',\n",
    "              half= True, shade_color='#f2f2f2', shade_zorder=0.7, \n",
    "              pad_bottom=1, goal_type='box', line_alpha=1, linewidth=3,\n",
    "                      goal_alpha=0.8)\n",
    "\n",
    "pitch.draw(ax=ax)\n",
    "\n",
    "#I invert the axis to make it so I am viewing it how I want\n",
    "plt.gca().invert_yaxis()\n",
    "\n",
    "colors = cm.rainbow(np.linspace(0, 1, df['team'].nunique()))\n",
    "#plot the points, you can use a for loop to plot the different outcomes if you want\n",
    "plt.scatter(df_shots_home['y'] *80, df_shots_home['x']*120, c='#c2fff9',\n",
    "           s=(df_shots_home.xg * 190) + 50)\n",
    "\n",
    "plt.scatter(df_shots_away['y'] *80, df_shots_away['x']*120, c='#fff238',\n",
    "            s=(df_shots_away.xg * 190) + 50)\n",
    "\n",
    "\n",
    "fig_text(\n",
    "    0.515, 0.95, \"Shot Map :<%s> vs <%s>\" %(HOME_TEAM, AWAY_TEAM), size=24, fig=fig,\n",
    "    highlight_textprops=[{\"color\": '#c2fff9'}, {\"color\": '#fff238'}],\n",
    "    ha=\"center\", fontproperties=font_bold.prop, color=\"#ffffff\"\n",
    ")\n",
    "\n",
    "total_shots_home = len(df_shots_home)\n",
    "total_shots_away = len(df_shots_away)\n",
    "xg_home = np.round(df_shots_home['xg'].sum(), 2)\n",
    "xg_away = np.round(df_shots_away['xg'].sum(), 2)\n",
    "\n",
    "# txt = ax.text(x=10, y=65, s=f'Shots: {df_shots_home}',\n",
    "#               size=12,\n",
    "# #               fontproperties=fm_rubik.prop, \n",
    "#               color='#33fff1',\n",
    "#              )\n",
    "\n",
    "txt = ax.text(x=10, y=70, s=f'xG: {xg_home:.2f}',\n",
    "              size=12,\n",
    "#               fontproperties=fm_rubik.prop, \n",
    "              color='#c2fff9',\n",
    "             )\n",
    "\n",
    "txt = ax.text(x=7, y=74, s=f'Total Shots: {total_shots_home:.0f}',\n",
    "              size=12,\n",
    "#               fontproperties=fm_rubik.prop, \n",
    "              color='#c2fff9',\n",
    "             )\n",
    "\n",
    "txt = ax.text(x=60, y=70, s=f'xG: {xg_away:.2f}',\n",
    "              size=12,\n",
    "#               fontproperties=fm_rubik.prop, \n",
    "              color='#fff238',\n",
    "             )\n",
    "\n",
    "txt = ax.text(x=57, y=74, s=f'Total Shots: {total_shots_away:.0f}',\n",
    "              size=12,\n",
    "#               fontproperties=fm_rubik.prop, \n",
    "              color='#fff238',\n",
    "             )\n",
    "\n",
    "fig.savefig('./viz/%s vs %s.png'%(HOME_TEAM, AWAY_TEAM), dpi=fig.dpi, bbox_inches='tight', pad_inches=0.5)\n"
   ]
  },
  {
   "cell_type": "code",
   "execution_count": null,
   "id": "ed2d1e28",
   "metadata": {},
   "outputs": [],
   "source": []
  },
  {
   "cell_type": "code",
   "execution_count": null,
   "id": "b5cfc08d",
   "metadata": {},
   "outputs": [],
   "source": []
  },
  {
   "cell_type": "code",
   "execution_count": null,
   "id": "ad669e8b",
   "metadata": {},
   "outputs": [],
   "source": []
  },
  {
   "cell_type": "code",
   "execution_count": null,
   "id": "07ba404a",
   "metadata": {},
   "outputs": [],
   "source": []
  },
  {
   "cell_type": "code",
   "execution_count": null,
   "id": "58840b35",
   "metadata": {},
   "outputs": [],
   "source": []
  },
  {
   "cell_type": "code",
   "execution_count": null,
   "id": "85b9bcae",
   "metadata": {},
   "outputs": [],
   "source": []
  }
 ],
 "metadata": {
  "kernelspec": {
   "display_name": "Python 3 (ipykernel)",
   "language": "python",
   "name": "python3"
  },
  "language_info": {
   "codemirror_mode": {
    "name": "ipython",
    "version": 3
   },
   "file_extension": ".py",
   "mimetype": "text/x-python",
   "name": "python",
   "nbconvert_exporter": "python",
   "pygments_lexer": "ipython3",
   "version": "3.8.3"
  }
 },
 "nbformat": 4,
 "nbformat_minor": 5
}
